{
 "cells": [
  {
   "cell_type": "markdown",
   "id": "afd2d61d",
   "metadata": {},
   "source": [
    "# UCI Tokenizer Example\n",
    "\n",
    "This notebook demonstrates how to use the BPE tokenizer for chess moves in UCI notation.\n",
    "\n",
    "The tokenizer is based on the Byte-Pair Encoding (BPE) algorithm with **ByteLevel pre-tokenization**. Each move is explicitly separated by a **`<STEP>`** token, ensuring crystal-clear move boundaries.\n",
    "\n",
    "Special tokens included:\n",
    "- `<PAD>`: Padding token\n",
    "- `<START>`: Start of sequence token\n",
    "- `<END>`: End of sequence token\n",
    "- `<STEP>`: Move separator token (replaces spaces)\n",
    "- `<1-0>`: White wins\n",
    "- `<0-1>`: Black wins\n",
    "- `<1/2-1/2>`: Draw\n",
    "- `<UNK>`: Unknown token\n",
    "\n",
    "**Important**: The `<STEP>` token explicitly marks move boundaries, making it impossible to confuse where one move ends and another begins."
   ]
  },
  {
   "cell_type": "markdown",
   "id": "b86ab2fa",
   "metadata": {},
   "source": [
    "## 1. Load the Pre-trained Tokenizer\n",
    "\n",
    "We'll load a pre-trained BPE tokenizer that was trained on Lichess games."
   ]
  },
  {
   "cell_type": "code",
   "execution_count": 1,
   "id": "9b8d6c34",
   "metadata": {},
   "outputs": [
    {
     "name": "stdout",
     "output_type": "stream",
     "text": [
      "Tokenizer loaded successfully!\n",
      "Vocabulary size: 1987\n"
     ]
    }
   ],
   "source": [
    "from tokenizers import Tokenizer\n",
    "from pathlib import Path\n",
    "\n",
    "# Load the pre-trained tokenizer\n",
    "tokenizer_path = Path(\"../src/chesstransformer/data/tokenizer_models/bpe_tokenizer_vocab2000.json\")\n",
    "tokenizer = Tokenizer.from_file(str(tokenizer_path))\n",
    "\n",
    "print(f\"Tokenizer loaded successfully!\")\n",
    "print(f\"Vocabulary size: {tokenizer.get_vocab_size()}\")"
   ]
  },
  {
   "cell_type": "markdown",
   "id": "5d56cfd1",
   "metadata": {},
   "source": [
    "## 2. Encode Chess Moves\n",
    "\n",
    "Let's encode a sequence of chess moves in UCI notation."
   ]
  },
  {
   "cell_type": "code",
   "execution_count": 2,
   "id": "7c96842e",
   "metadata": {},
   "outputs": [
    {
     "name": "stdout",
     "output_type": "stream",
     "text": [
      "Original moves: e2e4 e7e5 f1c4 b8c6 d1h5 g8f6 h5f7\n",
      "\n",
      "Encoded:\n",
      "Token IDs: [1, 101, 7, 111, 7, 133, 7, 106, 7, 370, 7, 99, 7, 943, 3, 2]\n",
      "Tokens: ['<START>', 'e2e4', '<STEP>', 'e7e5', '<STEP>', 'f1c4', '<STEP>', 'b8c6', '<STEP>', 'd1h5', '<STEP>', 'g8f6', '<STEP>', 'h5f7', '<1-0>', '<END>']\n",
      "\n",
      "Note: <STEP> tokens clearly mark where each move ends!\n"
     ]
    }
   ],
   "source": [
    "# Example game: Scholar's Mate (Coup du Berger)\n",
    "# Note: Moves are separated by <STEP> token instead of spaces\n",
    "moves = \"e2e4 e7e5 f1c4 b8c6 d1h5 g8f6 h5f7\"\n",
    "input_text = moves.replace(\" \", \" <STEP> \")\n",
    "input_text += \" <1-0>\"\n",
    "\n",
    "# Encode the moves\n",
    "encoding = tokenizer.encode(input_text)\n",
    "\n",
    "print(\"Original moves:\", moves)\n",
    "print(\"\\nEncoded:\")\n",
    "print(\"Token IDs:\", encoding.ids)\n",
    "print(\"Tokens:\", encoding.tokens)\n",
    "print(\"\\nNote: <STEP> tokens clearly mark where each move ends!\")"
   ]
  },
  {
   "cell_type": "markdown",
   "id": "68ee109f",
   "metadata": {},
   "source": [
    "## 3. Decode Token IDs Back to Moves\n",
    "\n",
    "We can decode the token IDs back to the original chess moves."
   ]
  },
  {
   "cell_type": "code",
   "execution_count": 3,
   "id": "9e8ebc48",
   "metadata": {},
   "outputs": [
    {
     "name": "stdout",
     "output_type": "stream",
     "text": [
      "Decoded moves: e2e4 e7e5 f1c4 b8c6 d1h5 g8f6 h5f7\n",
      "Match original? True\n"
     ]
    }
   ],
   "source": [
    "# Decode the token IDs back to text\n",
    "decoded_moves = tokenizer.decode(encoding.ids)\n",
    "\n",
    "print(\"Decoded moves:\", decoded_moves)\n",
    "print(\"Match original?\", decoded_moves.strip() == moves)"
   ]
  }
 ],
 "metadata": {
  "kernelspec": {
   "display_name": "chesstransformer",
   "language": "python",
   "name": "python3"
  },
  "language_info": {
   "codemirror_mode": {
    "name": "ipython",
    "version": 3
   },
   "file_extension": ".py",
   "mimetype": "text/x-python",
   "name": "python",
   "nbconvert_exporter": "python",
   "pygments_lexer": "ipython3",
   "version": "3.13.2"
  }
 },
 "nbformat": 4,
 "nbformat_minor": 5
}
